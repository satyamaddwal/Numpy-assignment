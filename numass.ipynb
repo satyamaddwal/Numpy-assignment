{
 "cells": [
  {
   "cell_type": "code",
   "execution_count": null,
   "id": "3df34e71-bf8f-444d-8a62-f336bc54f62c",
   "metadata": {},
   "outputs": [
    {
     "data": {
      "text/plain": [
       "numpy.ndarray"
      ]
     },
     "execution_count": 1,
     "metadata": {},
     "output_type": "execute_result"
    }
   ],
   "source": [
    "import numpy as np\n",
    "import pandas as pd\n",
    "\"\"\"Q1. Create a NumPy array 'arr' of integers from 0 to 5 and print its data type.\"\"\"\n",
    "a = [0,1,2,3,4,5]\n",
    "arr = np.array(a)\n",
    "type(arr)"
   ]
  },
  {
   "cell_type": "code",
   "execution_count": 17,
   "id": "80587548-f6c9-492a-b5ad-cdd0b718d607",
   "metadata": {},
   "outputs": [
    {
     "data": {
      "text/plain": [
       "numpy.float64"
      ]
     },
     "execution_count": 17,
     "metadata": {},
     "output_type": "execute_result"
    }
   ],
   "source": [
    "\"\"\" Q2. Given a NumPy array 'arr', check if its data type is float64. arr = np.array([1.5, 2.6, 3.7]).\"\"\"\n",
    "arr = np.array([1.5, 2.6, 3.7])\n",
    "type(arr[0])\n",
    "type(arr[1])\n",
    "type(arr[2])"
   ]
  },
  {
   "cell_type": "code",
   "execution_count": 5,
   "id": "e47c80af-ecd8-40b1-951c-2398f6fdd847",
   "metadata": {},
   "outputs": [
    {
     "data": {
      "text/plain": [
       "numpy.complex128"
      ]
     },
     "execution_count": 5,
     "metadata": {},
     "output_type": "execute_result"
    }
   ],
   "source": [
    "\"\"\" Q3. Create a NumPy array 'arr' with a data type of complex128 containing three complex numbers.\n",
    "SOL.\"\"\"\n",
    "arr = np.array([1+8j,8-5j,3+7j])\n",
    "type(arr[0])"
   ]
  },
  {
   "cell_type": "code",
   "execution_count": 16,
   "id": "2201583d-70fc-4e94-ae86-83655494d342",
   "metadata": {},
   "outputs": [
    {
     "name": "stdout",
     "output_type": "stream",
     "text": [
      "[0. 1. 2. 3. 4. 5.]\n"
     ]
    }
   ],
   "source": [
    "\"\"\" Q4. Convert an existing NumPy array 'arr' of integers to float32 data type.\"\"\"\n",
    "a = [0,1,2,3,4,5]\n",
    "arr = np.array(a)\n",
    "arr1 = arr.astype(\"float32\")\n",
    "print(arr1)"
   ]
  },
  {
   "cell_type": "code",
   "execution_count": 15,
   "id": "a0f48b22-7c89-4b5a-bc00-e8fabbcc6c83",
   "metadata": {},
   "outputs": [
    {
     "name": "stdout",
     "output_type": "stream",
     "text": [
      "<class 'numpy.float64'>\n"
     ]
    },
    {
     "data": {
      "text/plain": [
       "numpy.float32"
      ]
     },
     "execution_count": 15,
     "metadata": {},
     "output_type": "execute_result"
    }
   ],
   "source": [
    "\"\"\" Q5. Given a NumPy array 'arr' with float64 data type, convert it to float32 to reduce decimal precision.\"\"\"\n",
    "arr = np.array([1.5, 2.6, 3.7])\n",
    "print(type(arr[0]))\n",
    "arr1 = arr.astype(\"float32\")\n",
    "type(arr1[0])"
   ]
  },
  {
   "cell_type": "code",
   "execution_count": 25,
   "id": "f31c7df5-8dbb-4eb6-a07a-1cc69242f670",
   "metadata": {},
   "outputs": [
    {
     "data": {
      "text/plain": [
       "((2, 3), 6, numpy.ndarray)"
      ]
     },
     "execution_count": 25,
     "metadata": {},
     "output_type": "execute_result"
    }
   ],
   "source": [
    "\"\"\" Q6. Write a function array_attributes that takes a NumPy array as input and returns its shape, size, and data type.\"\"\"\n",
    "\n",
    "def array_attribute(x):\n",
    "    a = x.shape\n",
    "    b = x.size\n",
    "    c = type(x[0])\n",
    "    return a,b,c\n",
    "\n",
    "arr = np.array([[1,2.3,4.8],[1,3.2,15]])\n",
    "\n",
    "array_attribute(arr)"
   ]
  },
  {
   "cell_type": "code",
   "execution_count": 26,
   "id": "6ec1f5c7-2537-4b6d-8768-17f9768de464",
   "metadata": {},
   "outputs": [
    {
     "data": {
      "text/plain": [
       "2"
      ]
     },
     "execution_count": 26,
     "metadata": {},
     "output_type": "execute_result"
    }
   ],
   "source": [
    "\"\"\" Q7. Create a function array_dimension that takes a NumPy array as input and returns its dimensionality.\"\"\"\n",
    "\n",
    "def array_dimension(x):\n",
    "    return x.ndim\n",
    "\n",
    "arr = np.array([[1,2.3,4.8],[1,3.2,15]])\n",
    "\n",
    "array_dimension(arr)"
   ]
  },
  {
   "cell_type": "code",
   "execution_count": 28,
   "id": "2abbe19f-29e9-432a-b253-65d7a77d0fa9",
   "metadata": {},
   "outputs": [
    {
     "data": {
      "text/plain": [
       "(6, 48)"
      ]
     },
     "execution_count": 28,
     "metadata": {},
     "output_type": "execute_result"
    }
   ],
   "source": [
    "\"\"\" Q8. Design a function item_size_info that takes a NumPy array as input and returns the item size and the total size in bytes.\"\"\"\n",
    "def item_size_info(x):\n",
    "    a = x.size\n",
    "    b = x.nbytes\n",
    "    return a,b\n",
    "\n",
    "arr = np.array([[1,2.3,4.8],[1,3.2,15]])\n",
    "\n",
    "item_size_info(arr)"
   ]
  },
  {
   "cell_type": "code",
   "execution_count": 29,
   "id": "42be4e91-b9e3-495c-b35f-7726c4fbb9c0",
   "metadata": {},
   "outputs": [
    {
     "data": {
      "text/plain": [
       "(24, 8)"
      ]
     },
     "execution_count": 29,
     "metadata": {},
     "output_type": "execute_result"
    }
   ],
   "source": [
    "\"\"\" Q9. Create a function array_strides that takes a NumPy array as input and returns the strides of the array.\"\"\"\n",
    "\n",
    "def array_strides(x):\n",
    "    return x.strides\n",
    "    \n",
    "arr = np.array([[1,2.3,4.8],[1,3.2,15]])\n",
    "\n",
    "array_strides(arr)"
   ]
  },
  {
   "cell_type": "code",
   "execution_count": 30,
   "id": "5c939ead-cdf2-443d-b3d4-e4f97ac83909",
   "metadata": {},
   "outputs": [
    {
     "data": {
      "text/plain": [
       "((2, 3), (24, 8))"
      ]
     },
     "execution_count": 30,
     "metadata": {},
     "output_type": "execute_result"
    }
   ],
   "source": [
    "\"\"\" \n",
    "Q10. Design a function shape_stride_relationship that takes a NumPy array as input and returns the shape and strides of the array.\"\"\"\n",
    "\n",
    "arr = np.array([[1,2.3,4.8],[1,3.2,15]])\n",
    "def shape_strides_relationship(x):\n",
    "    a = x.shape\n",
    "    b = x.strides\n",
    "    return a,b\n",
    "\n",
    "shape_strides_relationship(arr)"
   ]
  },
  {
   "cell_type": "code",
   "execution_count": 36,
   "id": "17f92501-cd7b-4762-8021-0b498cc92984",
   "metadata": {},
   "outputs": [
    {
     "data": {
      "text/plain": [
       "array([0., 0., 0., 0., 0.])"
      ]
     },
     "execution_count": 36,
     "metadata": {},
     "output_type": "execute_result"
    }
   ],
   "source": [
    "\"\"\" \n",
    "Q11. Create a function `create_zeros_array` that takes an integer `n` as input and returns a NumPy array of zeros with `n` elements.\n",
    "\"\"\"\n",
    "def create_zeros_array(n):\n",
    "    a = np.zeros([n])\n",
    "    return a\n",
    "create_zeros_array(5)"
   ]
  },
  {
   "cell_type": "code",
   "execution_count": 38,
   "id": "7435205b-ee3a-4baf-a604-a8ebba62f830",
   "metadata": {},
   "outputs": [
    {
     "data": {
      "text/plain": [
       "(array([[1., 1., 1.],\n",
       "        [1., 1., 1.]]),\n",
       " 6)"
      ]
     },
     "execution_count": 38,
     "metadata": {},
     "output_type": "execute_result"
    }
   ],
   "source": [
    "\"\"\" Q12. Write a function `create_ones_matrix` that takes integers `rows` and `cols` as inputs and generates a 2D NumPy array \n",
    "         filled with ones of size `rows x cols`.\"\"\"\n",
    "def create_ones_matrix(rows,cols):\n",
    "    a = np.ones([rows,cols])\n",
    "    b = a.size\n",
    "    return a,b\n",
    "create_ones_matrix(2,3)"
   ]
  },
  {
   "cell_type": "code",
   "execution_count": 45,
   "id": "b838d6ea-8993-430c-8cac-c162751aebcf",
   "metadata": {},
   "outputs": [
    {
     "data": {
      "text/plain": [
       "array([10, 12, 14, 16, 18, 20, 22, 24, 26, 28])"
      ]
     },
     "execution_count": 45,
     "metadata": {},
     "output_type": "execute_result"
    }
   ],
   "source": [
    "\"\"\" Q13. Write a function `generate_range_array` that takes three integers start, stop, and step as arguments and creates a NumPy \n",
    "         array with a range starting from `start`, ending at stop (exclusive), and with the specified `step`.\"\"\"\n",
    "\n",
    "def generate_range_array(start,stop,step):\n",
    "    a = np.arange(start,stop,step)\n",
    "    return a\n",
    "\n",
    "generate_range_array(10,30,2)"
   ]
  },
  {
   "cell_type": "code",
   "execution_count": 49,
   "id": "b7d212d9-dfe0-4275-82c8-56096862e999",
   "metadata": {},
   "outputs": [
    {
     "data": {
      "text/plain": [
       "array([ 0.5       ,  3.83333333,  7.16666667, 10.5       , 13.83333333,\n",
       "       17.16666667, 20.5       , 23.83333333, 27.16666667, 30.5       ])"
      ]
     },
     "execution_count": 49,
     "metadata": {},
     "output_type": "execute_result"
    }
   ],
   "source": [
    "\"\"\" Q14. Design a function `generate_linear_space` that takes two floats `start`, `stop`, and an integer `num` as arguments and \n",
    "         generates a NumPy array with num equally spaced values between `start` and `stop` (inclusive).\"\"\"\n",
    "\n",
    "def generate_linear_space(start,stop,num):\n",
    "    return np.linspace(start,stop,num)\n",
    "\n",
    "generate_linear_space(0.5,30.5,10)"
   ]
  },
  {
   "cell_type": "code",
   "execution_count": 51,
   "id": "6c56b094-03b0-4360-ab51-8ce949cbc16e",
   "metadata": {},
   "outputs": [
    {
     "data": {
      "text/plain": [
       "array([[1., 0., 0.],\n",
       "       [0., 1., 0.],\n",
       "       [0., 0., 1.]])"
      ]
     },
     "execution_count": 51,
     "metadata": {},
     "output_type": "execute_result"
    }
   ],
   "source": [
    "\"\"\" Q15. Create a function `create_identity_matrix` that takes an integer `n` as input and generates a square identity matrix of \n",
    "         size `n x n` using `numpy.eye`.\"\"\"\n",
    "\n",
    "def create_identity_matrix(n):\n",
    "    return np.eye(n,n)\n",
    "create_identity_matrix(3)"
   ]
  },
  {
   "cell_type": "code",
   "execution_count": 52,
   "id": "dfc79e97-b9a3-4d9c-a56e-f7c6ffaed36f",
   "metadata": {},
   "outputs": [
    {
     "data": {
      "text/plain": [
       "array([ 1. ,  5.5,  7. , 36. ,  2.5])"
      ]
     },
     "execution_count": 52,
     "metadata": {},
     "output_type": "execute_result"
    }
   ],
   "source": [
    "\"\"\" Q16. Write a function that takes a Python list and converts it into a NumPy array.\"\"\"\n",
    "def convert_list(a):\n",
    "    return np.array(a)\n",
    "\n",
    "convert_list([1,5.5,7,36,2.5])"
   ]
  },
  {
   "cell_type": "code",
   "execution_count": 59,
   "id": "fda16b78-a6d2-425f-9f15-c0f82551b810",
   "metadata": {},
   "outputs": [
    {
     "data": {
      "text/plain": [
       "array([[ 1. ,  2.3,  4.8],\n",
       "       [ 1. ,  3.2, 15. ]])"
      ]
     },
     "execution_count": 59,
     "metadata": {},
     "output_type": "execute_result"
    }
   ],
   "source": [
    "\"\"\" Q17. Create a NumPy array and demonstrate the use of `numpy.view` to create a new array object with the same data.\"\"\"\n",
    "\n",
    "arr = np.array([[1,2.3,4.8],[1,3.2,15]])\n",
    "arr1 = arr.view()\n",
    "arr1"
   ]
  },
  {
   "cell_type": "code",
   "execution_count": 82,
   "id": "00ee554b-3f7e-451d-a0f4-d7350e378877",
   "metadata": {},
   "outputs": [
    {
     "data": {
      "text/plain": [
       "array([[1, 2],\n",
       "       [3, 4],\n",
       "       [5, 6]])"
      ]
     },
     "execution_count": 82,
     "metadata": {},
     "output_type": "execute_result"
    }
   ],
   "source": [
    "\"\"\"Q18. Write a function that takes two NumPy arrays and concatenates them along a specified axis.\"\"\"\n",
    "\n",
    "def concatenate_arrays(arr1, arr2, axis= 0):\n",
    "    return np.concatenate((arr1,arr2), axis = axis)\n",
    "\n",
    "arr1 = np.array([[1,2],[3,4]])\n",
    "arr2 = np.array([[5,6]])\n",
    "concatenate_arrays(arr1,arr2,axis= 0)"
   ]
  },
  {
   "cell_type": "code",
   "execution_count": 84,
   "id": "7b9aa367-b0d0-47e3-9e58-ed77cfe95c2c",
   "metadata": {},
   "outputs": [
    {
     "data": {
      "text/plain": [
       "array([[1, 2, 5, 6],\n",
       "       [3, 4, 7, 8]])"
      ]
     },
     "execution_count": 84,
     "metadata": {},
     "output_type": "execute_result"
    }
   ],
   "source": [
    "\"\"\"Q19.  Create two NumPy arrays with different shapes and concatenate them horizontally using `numpy.concatenate`.\"\"\"\n",
    "\n",
    "arr1 = np.array([[1,2],[3,4]])\n",
    "arr2 = np.array([[5,6],[7,8]])\n",
    "np.concatenate((arr1,arr2),axis= 1)"
   ]
  },
  {
   "cell_type": "code",
   "execution_count": 91,
   "id": "aaf42329-62f3-424c-a087-970131fb9f56",
   "metadata": {},
   "outputs": [
    {
     "data": {
      "text/plain": [
       "array([[ 1,  2],\n",
       "       [ 3,  4],\n",
       "       [ 5,  6],\n",
       "       [ 7,  8],\n",
       "       [ 9, 10]])"
      ]
     },
     "execution_count": 91,
     "metadata": {},
     "output_type": "execute_result"
    }
   ],
   "source": [
    "\"\"\"Q20. Write a function that vertically stacks multiple NumPy arrays given as a list.\"\"\"\n",
    "\n",
    "def vertical_stack_arrays(arrays_list):\n",
    "    num_columns = arrays_list[0].shape[1]\n",
    "    return np.vstack(arrays_list)\n",
    "\n",
    "array1 = np.array([[1, 2], [3, 4]])\n",
    "array2 = np.array([[5, 6]])\n",
    "array3 = np.array([[7, 8], [9, 10]])\n",
    "\n",
    "vertical_stack_arrays([array1, array2, array3])"
   ]
  },
  {
   "cell_type": "code",
   "execution_count": 7,
   "id": "6565c411-5672-4206-ae0b-606459c36c4f",
   "metadata": {},
   "outputs": [
    {
     "data": {
      "text/plain": [
       "array([ 1,  5,  9, 13, 17])"
      ]
     },
     "execution_count": 7,
     "metadata": {},
     "output_type": "execute_result"
    }
   ],
   "source": [
    "\"\"\"\n",
    "Q21. Write a Python function using NumPy to create an array of integers within a specified range (inclusive) with a given step size.\n",
    "\"\"\"\n",
    "\n",
    "def py_array(start,stop,step_size):\n",
    "    return np.arange(start,stop+1,step_size)\n",
    "\n",
    "\n",
    "a=py_array(1,20,4)\n",
    "a"
   ]
  },
  {
   "cell_type": "code",
   "execution_count": 9,
   "id": "e6307ea6-d2c2-42db-9ae8-0836e49845d8",
   "metadata": {},
   "outputs": [
    {
     "data": {
      "text/plain": [
       "array([0.        , 0.11111111, 0.22222222, 0.33333333, 0.44444444,\n",
       "       0.55555556, 0.66666667, 0.77777778, 0.88888889, 1.        ])"
      ]
     },
     "execution_count": 9,
     "metadata": {},
     "output_type": "execute_result"
    }
   ],
   "source": [
    "\"\"\"Q22. Write a Python function using NumPy to generate an array of 10 equally spaced values between 0 and 1 (inclusive).\"\"\"\n",
    "\n",
    "def py_equal(start,stop,numbers):\n",
    "    return np.linspace(start,stop,numbers)\n",
    "\n",
    "py_equal(0,1,10)"
   ]
  },
  {
   "cell_type": "code",
   "execution_count": 20,
   "id": "fee770b3-481f-4a96-b063-e2eb7f3198a9",
   "metadata": {},
   "outputs": [
    {
     "data": {
      "text/plain": [
       "array([   1.        ,    5.62341325,   31.6227766 ,  177.827941  ,\n",
       "       1000.        ])"
      ]
     },
     "execution_count": 20,
     "metadata": {},
     "output_type": "execute_result"
    }
   ],
   "source": [
    "\"\"\"\n",
    "Q23. Write a Python function using NumPy to create an array of 5 logarithmically spaced values between 1 and 1000 (inclusive).\"\"\"\n",
    "\n",
    "def log_values(start,stop):\n",
    "    \n",
    "    return np.logspace(np.log10(start), np.log10(stop), 5)\n",
    "\n",
    "log_values(1,1000)\n",
    "        "
   ]
  },
  {
   "cell_type": "code",
   "execution_count": 2,
   "id": "f8241644-b7d2-42cf-bc51-ed61b7388238",
   "metadata": {},
   "outputs": [
    {
     "data": {
      "text/html": [
       "<div>\n",
       "<style scoped>\n",
       "    .dataframe tbody tr th:only-of-type {\n",
       "        vertical-align: middle;\n",
       "    }\n",
       "\n",
       "    .dataframe tbody tr th {\n",
       "        vertical-align: top;\n",
       "    }\n",
       "\n",
       "    .dataframe thead th {\n",
       "        text-align: right;\n",
       "    }\n",
       "</style>\n",
       "<table border=\"1\" class=\"dataframe\">\n",
       "  <thead>\n",
       "    <tr style=\"text-align: right;\">\n",
       "      <th></th>\n",
       "      <th>0</th>\n",
       "      <th>1</th>\n",
       "      <th>2</th>\n",
       "    </tr>\n",
       "  </thead>\n",
       "  <tbody>\n",
       "    <tr>\n",
       "      <th>0</th>\n",
       "      <td>2</td>\n",
       "      <td>60</td>\n",
       "      <td>50</td>\n",
       "    </tr>\n",
       "    <tr>\n",
       "      <th>1</th>\n",
       "      <td>24</td>\n",
       "      <td>28</td>\n",
       "      <td>73</td>\n",
       "    </tr>\n",
       "    <tr>\n",
       "      <th>2</th>\n",
       "      <td>66</td>\n",
       "      <td>97</td>\n",
       "      <td>40</td>\n",
       "    </tr>\n",
       "    <tr>\n",
       "      <th>3</th>\n",
       "      <td>27</td>\n",
       "      <td>23</td>\n",
       "      <td>21</td>\n",
       "    </tr>\n",
       "    <tr>\n",
       "      <th>4</th>\n",
       "      <td>21</td>\n",
       "      <td>19</td>\n",
       "      <td>54</td>\n",
       "    </tr>\n",
       "  </tbody>\n",
       "</table>\n",
       "</div>"
      ],
      "text/plain": [
       "    0   1   2\n",
       "0   2  60  50\n",
       "1  24  28  73\n",
       "2  66  97  40\n",
       "3  27  23  21\n",
       "4  21  19  54"
      ]
     },
     "execution_count": 2,
     "metadata": {},
     "output_type": "execute_result"
    }
   ],
   "source": [
    "\"\"\"\n",
    "Q24.  Create a Pandas DataFrame using a NumPy array that contains 5 rows and 3 columns, where the values are random integers\n",
    "between 1 and 100.\"\"\"\n",
    "\n",
    "a = np.random.randint(1,100,(5,3))\n",
    "b = pd.DataFrame(a)\n",
    "b"
   ]
  },
  {
   "cell_type": "code",
   "execution_count": 132,
   "id": "00e3f134-af96-4f23-a8cd-e97b59953d9a",
   "metadata": {},
   "outputs": [],
   "source": [
    "def replaces(df,column_name):\n",
    "    for i in df[\"column_name\"]:\n",
    "        np.where(i<0,[0,i])\n",
    "    return df[\"column_name\"]"
   ]
  },
  {
   "cell_type": "code",
   "execution_count": 4,
   "id": "2b6dc20d-a81b-4b9a-9896-4f3e0d3f4485",
   "metadata": {},
   "outputs": [
    {
     "name": "stdout",
     "output_type": "stream",
     "text": [
      "0      1\n",
      "1      8\n",
      "2     96\n",
      "3     75\n",
      "4     10\n",
      "5      0\n",
      "6     25\n",
      "7      0\n",
      "8      0\n",
      "9     20\n",
      "10    15\n",
      "Name: column_name, dtype: int64\n"
     ]
    }
   ],
   "source": [
    "\"\"\"\n",
    "Q25. Write a function that takes a Pandas DataFrame and replaces all negative values in a specific column with zeros.\n",
    "Use NumPy operations within the Pandas DataFrame.\n",
    "\"\"\"\n",
    "\n",
    "aa ={\"values\":[1,8,96,75,10,-96,25,-6,-78,20,15]}\n",
    "\n",
    "df =  pd.DataFrame(aa)\n",
    "\n",
    "def replaces(df,column_name):\n",
    "    df[\"column_name\"] = df[column_name].map(lambda x: 0 if x<0 else x)\n",
    "    print( df[\"column_name\"])\n",
    "\n",
    "#Ex:\n",
    "column_name = \"values\"\n",
    "df \n",
    "replaces(df,column_name)"
   ]
  },
  {
   "cell_type": "code",
   "execution_count": 16,
   "id": "8d357da9-6fe1-47ae-9885-1e2c7c7205fc",
   "metadata": {},
   "outputs": [
    {
     "data": {
      "text/plain": [
       "30"
      ]
     },
     "execution_count": 16,
     "metadata": {},
     "output_type": "execute_result"
    }
   ],
   "source": [
    "\"\"\"Q26. Access the 3rd element from the given NumPy array.\"\"\"\n",
    "\n",
    "arr = np.array([10, 20, 30, 40, 50])\n",
    "arr[2]"
   ]
  },
  {
   "cell_type": "code",
   "execution_count": 19,
   "id": "1b0af6c1-37fa-4976-9fbc-c2aec489a3d3",
   "metadata": {},
   "outputs": [
    {
     "data": {
      "text/plain": [
       "6"
      ]
     },
     "execution_count": 19,
     "metadata": {},
     "output_type": "execute_result"
    }
   ],
   "source": [
    "\"\"\"Q27. Retrieve the element at index (1, 2) from the 2D NumPy array.\n",
    " arr_2d = np.array([[1, 2, 3],[4, 5, 6],[7, 8, 9]])\n",
    "\"\"\"\n",
    "\n",
    "arr_2d = np.array([[1,2,3],[4,5,6],[7,8,9]])\n",
    "arr_2d[(1,2)]"
   ]
  },
  {
   "cell_type": "code",
   "execution_count": 21,
   "id": "cf61b3cb-c946-4da0-9c57-004d63fc1db9",
   "metadata": {},
   "outputs": [
    {
     "data": {
      "text/plain": [
       "array([ 8, 10,  7])"
      ]
     },
     "execution_count": 21,
     "metadata": {},
     "output_type": "execute_result"
    }
   ],
   "source": [
    "\"\"\" Q28. Using boolean indexing, extract elements greater than 5 from the given NumPy array. arr = np.array([3, 8, 2, 10, 5, 7])\"\"\"\n",
    "\n",
    "arr = np.array([3,8,2,10,5,7])\n",
    "arr[arr>5]"
   ]
  },
  {
   "cell_type": "code",
   "execution_count": 26,
   "id": "0d4a205c-224c-4a88-a589-7e3c6ec80ab2",
   "metadata": {},
   "outputs": [
    {
     "data": {
      "text/plain": [
       "array([3, 4, 5])"
      ]
     },
     "execution_count": 26,
     "metadata": {},
     "output_type": "execute_result"
    }
   ],
   "source": [
    "\"\"\" Q 29. Perform basic slicing to extract elements from index 2 to 5 (inclusive) from the given NumPy array.\n",
    " arr = np.array([1, 2, 3, 4, 5, 6, 7, 8, 9])\"\"\"\n",
    "\n",
    "arr = np.array([1, 2, 3, 4, 5, 6, 7, 8, 9])\n",
    "arr[2:5]"
   ]
  },
  {
   "cell_type": "code",
   "execution_count": 42,
   "id": "37a98aad-0cfc-499a-b893-e1dc6691401f",
   "metadata": {},
   "outputs": [
    {
     "data": {
      "text/plain": [
       "array([[2, 3],\n",
       "       [5, 6]])"
      ]
     },
     "execution_count": 42,
     "metadata": {},
     "output_type": "execute_result"
    }
   ],
   "source": [
    "\"\"\" Q 30. Slice the 2D NumPy array to extract the sub-array `[[2, 3], [5, 6]]` from the given array.\n",
    "arr_2d = np.array([[1, 2, 3],[4, 5, 6],[7, 8, 9]])\"\"\"\n",
    "\n",
    "\n",
    "arr_2d = np.array([[1, 2, 3],[4, 5, 6],[7, 8, 9]])\n",
    "\n",
    "arr_want = arr_2d[0:2,1:3]\n",
    "arr_want"
   ]
  },
  {
   "cell_type": "code",
   "execution_count": 64,
   "id": "fc5d2e13-fd50-4223-98cf-f8277ab5fd7d",
   "metadata": {},
   "outputs": [
    {
     "data": {
      "text/plain": [
       "array([[ 47, -96, -14,  25],\n",
       "       [ 97, -85,  36, -91],\n",
       "       [-24, -35,  62,  87]])"
      ]
     },
     "execution_count": 64,
     "metadata": {},
     "output_type": "execute_result"
    }
   ],
   "source": [
    "\"\"\" Q31.Write a NumPy function to extract elements in specific order from a given 2D array based on indices provided in \n",
    "another array.\"\"\"\n",
    "\n",
    "df = np.array([[85,47,-96,25,-14],[97,-85,26,-91,36],[84,62,-35,-24,87],[-96,78,-25,93,58]])\n",
    "df1 = np.array([[1,2,4,3],[0,1,4,3],[3,2,1,4]])\n",
    "\n",
    "\n",
    "def extract(df,df1):\n",
    "    a = df1.ravel() + np.repeat(range(0,df.shape[1]*df1.shape[0],df.shape[1]),df1.shape[1])\n",
    "    result = df.ravel()[a].reshape(df1.shape)\n",
    "    return result\n",
    "extract(df,df1)"
   ]
  },
  {
   "cell_type": "code",
   "execution_count": 66,
   "id": "c1abb8cf-1cb7-445d-98df-48af6be86a25",
   "metadata": {},
   "outputs": [
    {
     "data": {
      "text/plain": [
       "array([42, 15, 38, 64])"
      ]
     },
     "execution_count": 66,
     "metadata": {},
     "output_type": "execute_result"
    }
   ],
   "source": [
    "\"\"\"Q32. Create a NumPy function that filters elements greater than a threshold from a given 1D array using boolean indexing.\"\"\"\n",
    "\n",
    "def filters(x,number):\n",
    "    return x[x>number]\n",
    "\n",
    "arr = np.array([8,4,3,2,1,6,7,9,42,15,38,64])\n",
    "\n",
    "filters(arr,10)"
   ]
  },
  {
   "cell_type": "code",
   "execution_count": 74,
   "id": "7c79c0f2-0870-4036-afdc-dd02f94a2623",
   "metadata": {},
   "outputs": [
    {
     "name": "stdout",
     "output_type": "stream",
     "text": [
      "[[[51 50 51]\n",
      "  [57 87 41]\n",
      "  [15 94 87]]\n",
      "\n",
      " [[ 2  1  9]\n",
      "  [11 63 63]\n",
      "  [44 25 10]]\n",
      "\n",
      " [[50 39 13]\n",
      "  [40  6 38]\n",
      "  [69 74 24]]]\n"
     ]
    },
    {
     "data": {
      "text/plain": [
       "11"
      ]
     },
     "execution_count": 74,
     "metadata": {},
     "output_type": "execute_result"
    }
   ],
   "source": [
    "\"\"\"Q33. Develop a NumPy function that extracts specific elements from a 3D array using indices provided in three separate arrays\n",
    "for each dimension.\"\"\"\n",
    "arr1 = np.random.randint(1,100,(3,3,3))\n",
    "print(arr1)\n",
    "arr_row = np.array([0,1,2])\n",
    "arr_col = np.array([0,2,1])\n",
    "arr_dim = np.array([1,2,0])\n",
    "\n",
    "def extract_element(arr1,arr2,arr3,arr4):\n",
    "    extracted_element = arr1[np.random.choice(arr_dim),np.random.choice(arr_row),np.random.choice(arr_col)]\n",
    "    return extracted_element\n",
    "\n",
    "extract_element(arr1,arr_row,arr_col,arr_dim)"
   ]
  },
  {
   "cell_type": "code",
   "execution_count": 72,
   "id": "2e6db2e7-4e2e-44fd-b95a-cb444464671f",
   "metadata": {},
   "outputs": [
    {
     "data": {
      "text/plain": [
       "array([ 8,  7,  9, 15, 38])"
      ]
     },
     "execution_count": 72,
     "metadata": {},
     "output_type": "execute_result"
    }
   ],
   "source": [
    "\"\"\"Q34. Write a NumPy function that returns elements from an array where both two conditions are satisfied using boolean indexing.\"\"\"\n",
    "\n",
    "arr = np.array([8,4,3,2,1,6,7,9,42,15,38,64])\n",
    "\n",
    "arr[(arr>6)& (arr<40)]"
   ]
  },
  {
   "cell_type": "code",
   "execution_count": 95,
   "id": "8433f290-9889-433d-a82a-9d89063edab6",
   "metadata": {},
   "outputs": [
    {
     "data": {
      "text/plain": [
       "array([ 1,  4,  1, 87])"
      ]
     },
     "execution_count": 95,
     "metadata": {},
     "output_type": "execute_result"
    }
   ],
   "source": [
    "\"\"\" Q35. Create a NumPy function that extracts elements from a 2D array using row and column indices provided in separate arrays.\"\"\"\n",
    "\n",
    "df = np.array([[1,2,4,3],[0,1,4,3],[3,2,1,4],[48,63,87,15]])\n",
    "df1 = np.array([0,2,1,3])\n",
    "df2 = np.array([0,3,1,2])\n",
    "\n",
    "def ext_2d(df,df1,df2):\n",
    "    return df[df1,df2]\n",
    "\n",
    "\n",
    "ext_2d(df,df1,df2)"
   ]
  },
  {
   "cell_type": "code",
   "execution_count": 102,
   "id": "b3f96849-c0fa-4c5b-9ca4-6f11d9b7749b",
   "metadata": {},
   "outputs": [
    {
     "data": {
      "text/plain": [
       "array([[ 6,  7,  8],\n",
       "       [ 9, 10, 11],\n",
       "       [12, 13, 14]])"
      ]
     },
     "execution_count": 102,
     "metadata": {},
     "output_type": "execute_result"
    }
   ],
   "source": [
    "\"\"\"Q36. Given an array arr of shape (3, 3), add a scalar value of 5 to each element using NumPy broadcasting.\"\"\"\n",
    "\n",
    "arr= np.array([[1,2,3],[4,5,6],[7,8,9]])\n",
    "arr+ 5"
   ]
  },
  {
   "cell_type": "code",
   "execution_count": 114,
   "id": "ebb15221-c42f-41fa-b671-4c3a9720abb9",
   "metadata": {},
   "outputs": [
    {
     "data": {
      "text/plain": [
       "array([[ 1,  2,  3,  4],\n",
       "       [10, 12, 14, 16],\n",
       "       [27, 30, 33, 36]])"
      ]
     },
     "execution_count": 114,
     "metadata": {},
     "output_type": "execute_result"
    }
   ],
   "source": [
    "\"\"\"Q37. Consider two arrays arr1 of shape (1, 3) and arr2 of shape (3, 4). Multiply each row of arr2 by the corresponding\n",
    "element in arr1 using NumPy broadcasting.\"\"\"\n",
    "\n",
    "arr1 = np.array([[1,2,3]])\n",
    "arr2 = np.array([[1,2,3,4],[5,6,7,8],[9,10,11,12]])\n",
    "a= arr1.T\n",
    "arr2*a"
   ]
  },
  {
   "cell_type": "code",
   "execution_count": 117,
   "id": "c966bd85-55f7-45af-ab72-ffddb0a7a5f4",
   "metadata": {},
   "outputs": [
    {
     "data": {
      "text/plain": [
       "array([[ 2,  3,  4],\n",
       "       [ 7,  8,  9],\n",
       "       [12, 13, 14],\n",
       "       [ 8, 12, 16]])"
      ]
     },
     "execution_count": 117,
     "metadata": {},
     "output_type": "execute_result"
    }
   ],
   "source": [
    "\"\"\" Q38. Given a 1D array arr1 of shape (1, 4) and a 2D array arr2 of shape (4, 3), add arr1 to each row of arr2 using \n",
    "NumPy broadcasting.\"\"\"\n",
    "\n",
    "arr1 = np.array([[1,2,3,4]])\n",
    "arr2 = np.array([[1,2,3],[5,6,7],[9,10,11],[4,8,12]])\n",
    "a= arr1.T\n",
    "arr2+a"
   ]
  },
  {
   "cell_type": "code",
   "execution_count": 123,
   "id": "29112952-32ad-439a-a35f-1cabb7ae4076",
   "metadata": {},
   "outputs": [
    {
     "data": {
      "text/plain": [
       "array([[5, 6, 7],\n",
       "       [6, 7, 8],\n",
       "       [7, 8, 9]])"
      ]
     },
     "execution_count": 123,
     "metadata": {},
     "output_type": "execute_result"
    }
   ],
   "source": [
    "\"\"\" Q39. Consider two arrays arr1 of shape (3, 1) and arr2 of shape (1, 3). Add these arrays using NumPy broadcasting.\"\"\"\n",
    "\n",
    "arr1 = np.array([[1],[2],[3]])\n",
    "arr2 = np.array([[4,5,6]])\n",
    "arr1+arr2"
   ]
  },
  {
   "cell_type": "code",
   "execution_count": 67,
   "id": "af8d1af9-c04a-4c37-a629-00534950355f",
   "metadata": {},
   "outputs": [
    {
     "data": {
      "text/plain": [
       "array([[[ 7,  8],\n",
       "        [18, 20]],\n",
       "\n",
       "       [[21, 24],\n",
       "        [36, 40]],\n",
       "\n",
       "       [[35, 40],\n",
       "        [54, 60]]])"
      ]
     },
     "execution_count": 67,
     "metadata": {},
     "output_type": "execute_result"
    }
   ],
   "source": [
    "\"\"\" Q40. Given arrays arr1 of shape (2, 3) and arr2 of shape (2, 2), perform multiplication using NumPy broadcasting. \n",
    "Handle the shape incompatibility.\"\"\"\n",
    "\n",
    "arr1 = np.array([[1,2,3],[4,5,6]])\n",
    "arr2 = np.array([[7,8],[9,10]])\n",
    "a = arr1.reshape(3,2,1)\n",
    "a*arr2"
   ]
  },
  {
   "cell_type": "code",
   "execution_count": 11,
   "id": "4f6a30d8-4ca0-4a83-ba03-3006454bb88e",
   "metadata": {},
   "outputs": [
    {
     "data": {
      "text/plain": [
       "array([2.5, 3.5, 4.5])"
      ]
     },
     "execution_count": 11,
     "metadata": {},
     "output_type": "execute_result"
    }
   ],
   "source": [
    "\"\"\" Q41. Calculate column-wise mean for the given array: arr = np.array([[1, 2, 3], [4, 5, 6]])\"\"\"\n",
    "\n",
    "arr = np.array([[1, 2, 3], [4, 5, 6]])\n",
    "arr.mean(axis=0)"
   ]
  },
  {
   "cell_type": "code",
   "execution_count": 14,
   "id": "b19fdc1d-1cec-4014-ab59-f4bbbd0e77cf",
   "metadata": {},
   "outputs": [
    {
     "data": {
      "text/plain": [
       "array([3, 6])"
      ]
     },
     "execution_count": 14,
     "metadata": {},
     "output_type": "execute_result"
    }
   ],
   "source": [
    "\"\"\" Q42. Find maximum value in each row of the given array: arr = np.array([[1, 2, 3], [4, 5, 6]])\"\"\"\n",
    "\n",
    "arr = np.array([[1, 2, 3], [4, 5, 6]])\n",
    "arr.max(axis=1)"
   ]
  },
  {
   "cell_type": "code",
   "execution_count": 16,
   "id": "e9eabb00-a521-4691-b2e8-0400fb62aa51",
   "metadata": {},
   "outputs": [
    {
     "data": {
      "text/plain": [
       "array([4, 5, 6])"
      ]
     },
     "execution_count": 16,
     "metadata": {},
     "output_type": "execute_result"
    }
   ],
   "source": [
    "\"\"\" Q43. For the given array, find indices of maximum value in each column. arr = np.array([[1, 2, 3], [4, 5, 6]])\"\"\"\n",
    "\n",
    "arr = np.array([[1, 2, 3], [4, 5, 6]])\n",
    "arr.max(axis=0)"
   ]
  },
  {
   "cell_type": "code",
   "execution_count": 18,
   "id": "7bc4d655-555f-4676-bd3a-f07615de8aab",
   "metadata": {},
   "outputs": [
    {
     "data": {
      "text/plain": [
       "array([ 6, 15])"
      ]
     },
     "execution_count": 18,
     "metadata": {},
     "output_type": "execute_result"
    }
   ],
   "source": [
    "\"\"\" Q44. For the given array, apply custom function to calculate moving sum along rows.\n",
    "arr = np.array([[1, 2, 3], [4, 5, 6]])\"\"\"\n",
    "\n",
    "arr = np.array([[1, 2, 3], [4, 5, 6]])\n",
    "arr.sum(axis=1)"
   ]
  },
  {
   "cell_type": "code",
   "execution_count": 25,
   "id": "f425f85e-17e9-4aba-9d14-7bf74fa77c6f",
   "metadata": {},
   "outputs": [
    {
     "data": {
      "text/plain": [
       "False"
      ]
     },
     "execution_count": 25,
     "metadata": {},
     "output_type": "execute_result"
    }
   ],
   "source": [
    "\"\"\" Q45. In the given array, check if all elements in each column are even. arr = np.array([[2, 4, 6], [3, 5, 7]])\"\"\"\n",
    "\n",
    "arr = np.array([[2, 4, 6], [3, 5, 7]])\n",
    "np.all(arr%2==0)"
   ]
  },
  {
   "cell_type": "code",
   "execution_count": 28,
   "id": "d082d1d7-3c7c-4c78-ade6-1afbd8bd17ad",
   "metadata": {},
   "outputs": [
    {
     "data": {
      "text/plain": [
       "array([[1, 2],\n",
       "       [3, 4],\n",
       "       [5, 6]])"
      ]
     },
     "execution_count": 28,
     "metadata": {},
     "output_type": "execute_result"
    }
   ],
   "source": [
    "\"\"\"Q46. Given a NumPy array arr, reshape it into a matrix of dimensions `m` rows and `n` columns. Return the \n",
    "reshaped matrix. original_array = np.array([1, 2, 3, 4, 5, 6])\"\"\"\n",
    "\n",
    "original_array = np.array([1, 2, 3, 4, 5, 6])\n",
    "new_array = original_array.reshape(3,2)\n",
    "new_array"
   ]
  },
  {
   "cell_type": "code",
   "execution_count": 37,
   "id": "61898e6e-dd34-4fe1-aec7-7e02f020fde1",
   "metadata": {},
   "outputs": [
    {
     "data": {
      "text/plain": [
       "array([1, 2, 3, 4, 5, 6])"
      ]
     },
     "execution_count": 37,
     "metadata": {},
     "output_type": "execute_result"
    }
   ],
   "source": [
    "\"\"\"Q47. Create a function that takes a matrix as input and returns the flattened array.\n",
    "input_matrix = np.array([[1, 2, 3], [4, 5, 6]])\"\"\"\n",
    "\n",
    "input_matrix = np.array([[1, 2, 3], [4, 5, 6]])\n",
    "\n",
    "def flatterned_array(a):\n",
    "    b = a.flatten()\n",
    "    return b\n",
    "\n",
    "flatterned_array(input_matrix)"
   ]
  },
  {
   "cell_type": "code",
   "execution_count": 61,
   "id": "bf387520-2a21-4bc2-80a7-852ff0da8137",
   "metadata": {},
   "outputs": [
    {
     "data": {
      "text/plain": [
       "array([[1, 2],\n",
       "       [3, 4],\n",
       "       [5, 6],\n",
       "       [7, 8]])"
      ]
     },
     "execution_count": 61,
     "metadata": {},
     "output_type": "execute_result"
    }
   ],
   "source": [
    "\"\"\" Q48. Write a function that concatenates two given arrays along a specified axis.\n",
    "array1 = np.array([[1, 2], [3, 4]])  array2 = np.array([[5, 6], [7, 8]])\"\"\"\n",
    "\n",
    "array1 = np.array([[1, 2], [3, 4]])\n",
    "array2 = np.array([[5, 6], [7, 8]])\n",
    "\n",
    "def concated(a,b,axis):\n",
    "    c = np.concatenate((a,b),axis=axis)\n",
    "    return c\n",
    "\n",
    "concated(array1,array2,0)"
   ]
  },
  {
   "cell_type": "code",
   "execution_count": 59,
   "id": "73c0cc2c-8c4c-4020-bf22-48670b7e7186",
   "metadata": {},
   "outputs": [
    {
     "data": {
      "text/plain": [
       "array([[[1],\n",
       "        [2],\n",
       "        [3]],\n",
       "\n",
       "       [[4],\n",
       "        [5],\n",
       "        [6]],\n",
       "\n",
       "       [[7],\n",
       "        [8],\n",
       "        [9]]])"
      ]
     },
     "execution_count": 59,
     "metadata": {},
     "output_type": "execute_result"
    }
   ],
   "source": [
    "\"\"\" Q49. Create a function that splits an array into multiple sub-arrays along a specified axis.\n",
    "original_array = np.array([[1, 2, 3], [4, 5, 6], [7, 8, 9]])\"\"\"\n",
    "\n",
    "\n",
    "original_array = np.array([[1, 2, 3], [4, 5, 6], [7, 8, 9]])\n",
    "new_array = original_array.reshape(3,3,1)\n",
    "new_array"
   ]
  },
  {
   "cell_type": "code",
   "execution_count": 2,
   "id": "44d096ee-a79a-4984-93fe-14c501feb8dd",
   "metadata": {},
   "outputs": [
    {
     "data": {
      "text/plain": [
       "array([ 1, 10,  4, 11,  5])"
      ]
     },
     "execution_count": 2,
     "metadata": {},
     "output_type": "execute_result"
    }
   ],
   "source": [
    "\"\"\" Q50.  Write a function that inserts and then deletes elements from a given array at specified indices.\n",
    "original_array = np.array([1, 2, 3, 4, 5]) indices_to_insert = [2, 4]\n",
    "values_to_insert = [10, 11]  indices_to_delete = [1, 3]\"\"\"\n",
    "\n",
    "original_array = np.array([1, 2, 3, 4, 5])\n",
    "indices_to_insert = [2, 4]\n",
    "values_to_insert = [10, 11]  \n",
    "indices_to_delete = [1, 3]\n",
    "\n",
    "def edit_array(orgi,indice_insert,insert_array,indice_delete):\n",
    "    orgi = np.insert(orgi,indice_insert,insert_array)\n",
    "    orgi = np.delete(orgi,indice_delete)\n",
    "    return orgi\n",
    "\n",
    "edit_array(original_array,indices_to_insert,values_to_insert,indices_to_delete)"
   ]
  },
  {
   "cell_type": "code",
   "execution_count": 9,
   "id": "6aa49cda-9111-4328-b8d0-1a63b8cc5497",
   "metadata": {},
   "outputs": [
    {
     "name": "stdout",
     "output_type": "stream",
     "text": [
      "[[0.36817345 0.29864644 0.10620263]\n",
      " [0.61817778 0.90045762 0.60330997]\n",
      " [0.9010497  0.85880838 0.85923436]] [[5 6 5]\n",
      " [7 7 2]\n",
      " [3 6 5]]\n"
     ]
    },
    {
     "data": {
      "text/plain": [
       "array([[5.36817345, 6.29864644, 5.10620263],\n",
       "       [7.61817778, 7.90045762, 2.60330997],\n",
       "       [3.9010497 , 6.85880838, 5.85923436]])"
      ]
     },
     "execution_count": 9,
     "metadata": {},
     "output_type": "execute_result"
    }
   ],
   "source": [
    "\"\"\" Q51. Create a NumPy array `arr1` with random integers and another array `arr2` with integers from 1 to 10. \n",
    "Perform element-wise addition between `arr1` and `arr2`.\"\"\"\n",
    "\n",
    "arr1 = np.random.random((3,3))\n",
    "arr2 = np.random.randint(1,10,(3,3))\n",
    "\n",
    "print(arr1,arr2)\n",
    "\n",
    "arr1+arr2"
   ]
  },
  {
   "cell_type": "code",
   "execution_count": 14,
   "id": "2ff0de5d-e420-4a8a-8ef3-ec0fd433654a",
   "metadata": {},
   "outputs": [
    {
     "name": "stdout",
     "output_type": "stream",
     "text": [
      "[10  9  8  7  6  5  4  3  2  1] [ 1  2  3  4  5  6  7  8  9 10]\n"
     ]
    },
    {
     "data": {
      "text/plain": [
       "array([-9, -7, -5, -3, -1,  1,  3,  5,  7,  9])"
      ]
     },
     "execution_count": 14,
     "metadata": {},
     "output_type": "execute_result"
    }
   ],
   "source": [
    "\"\"\" Q52. Generate a NumPy array `arr1` with sequential integers from 10 to 1 and another array `arr2` with integers \n",
    "from 1 to 10. Subtract `arr2` from `arr1` element-wise.\"\"\"\n",
    "\n",
    "arr1 = np.array(range(10,0,-1))\n",
    "arr2 = np.array(range(1,11))\n",
    "\n",
    "print(arr1,arr2)\n",
    "\n",
    "arr2-arr1"
   ]
  },
  {
   "cell_type": "code",
   "execution_count": 16,
   "id": "5401df9d-3c1b-4cb2-921b-6809625b7589",
   "metadata": {},
   "outputs": [
    {
     "name": "stdout",
     "output_type": "stream",
     "text": [
      "[[0.48562474 0.35653962 0.93082773]\n",
      " [0.83526397 0.70311435 0.12557183]\n",
      " [0.57950534 0.78141581 0.75181447]] [[2 1 3]\n",
      " [1 2 1]\n",
      " [3 1 1]]\n"
     ]
    },
    {
     "data": {
      "text/plain": [
       "array([[0.97124949, 0.35653962, 2.79248319],\n",
       "       [0.83526397, 1.4062287 , 0.12557183],\n",
       "       [1.73851601, 0.78141581, 0.75181447]])"
      ]
     },
     "execution_count": 16,
     "metadata": {},
     "output_type": "execute_result"
    }
   ],
   "source": [
    "\"\"\" Q53. Create a NumPy array `arr1` with random integers and another array `arr2` with integers from 1 to 5. \n",
    "Perform element-wise multiplication between `arr1` and `arr2`.\"\"\"\n",
    "\n",
    "arr1 = np.random.random((3,3))\n",
    "arr2 = np.random.randint(1,5,(3,3))\n",
    "\n",
    "print(arr1,arr2)\n",
    "\n",
    "arr1*arr2"
   ]
  },
  {
   "cell_type": "code",
   "execution_count": 22,
   "id": "5e0a9fdc-0635-4ae5-8128-f4c21c325419",
   "metadata": {},
   "outputs": [
    {
     "name": "stdout",
     "output_type": "stream",
     "text": [
      "[2, 4, 6, 8, 10] [[ 8  8  2]\n",
      " [ 8  4  6]\n",
      " [ 4 10  4]] [[1 3 4]\n",
      " [4 2 4]\n",
      " [1 1 3]]\n"
     ]
    },
    {
     "data": {
      "text/plain": [
       "array([[ 8.        ,  2.66666667,  0.5       ],\n",
       "       [ 2.        ,  2.        ,  1.5       ],\n",
       "       [ 4.        , 10.        ,  1.33333333]])"
      ]
     },
     "execution_count": 22,
     "metadata": {},
     "output_type": "execute_result"
    }
   ],
   "source": [
    "\"\"\" Q54. Generate a NumPy array `arr1` with even integers from 2 to 10 and another array `arr2` with integers from 1 \n",
    "to 5. Perform element-wise division of `arr1` by `arr2`.\"\"\"\n",
    "\n",
    "a=[]\n",
    "for i in range(2,11):\n",
    "    if i%2==0:\n",
    "        a.append(i)\n",
    "a\n",
    "arr1 = np.random.choice(a,(3,3))\n",
    "arr2= np.random.randint(1,5,(3,3))\n",
    "\n",
    "print(a,arr1,arr2)\n",
    "arr1/arr2"
   ]
  },
  {
   "cell_type": "code",
   "execution_count": 29,
   "id": "2fbe27e4-fdb9-4d99-a8c0-f01501f11eb8",
   "metadata": {},
   "outputs": [
    {
     "name": "stdout",
     "output_type": "stream",
     "text": [
      "[1 2 3 4 5] [5 4 3 2 1]\n"
     ]
    },
    {
     "data": {
      "text/plain": [
       "array([ 1, 16, 27, 16,  5])"
      ]
     },
     "execution_count": 29,
     "metadata": {},
     "output_type": "execute_result"
    }
   ],
   "source": [
    "\"\"\" Q55. Create a NumPy array `arr1` with integers from 1 to 5 and another array `arr2` with the same numbers \n",
    "reversed. Calculate the exponentiation of `arr1` raised to the power of `arr2` element-wise.\"\"\"\n",
    "\n",
    "arr1= np.array(range(1,6))\n",
    "arr2= np.array(range(5,0,-1))\n",
    "print(arr1,arr2)\n",
    "\n",
    "a=arr1**arr2\n",
    "a"
   ]
  },
  {
   "cell_type": "code",
   "execution_count": 46,
   "id": "c52c3bc5-449a-4bb3-8163-a66d31b13344",
   "metadata": {},
   "outputs": [
    {
     "data": {
      "text/plain": [
       "1"
      ]
     },
     "execution_count": 46,
     "metadata": {},
     "output_type": "execute_result"
    }
   ],
   "source": [
    "\"\"\" Q56. Write a function that counts the occurrences of a specific substring within a NumPy array of strings.\n",
    "arr = np.array(['hello', 'world', 'hello', 'numpy', 'hello'])\"\"\"\n",
    "\n",
    "arr = np.array(['hello', 'world', 'hello', 'numpy', 'hello'])\n",
    "\n",
    "def word_in_array(arr,word):\n",
    "    return np.sum(i.count(word) for i in arr)\n",
    "\n",
    "word_in_array(arr,\"world\")"
   ]
  },
  {
   "cell_type": "code",
   "execution_count": 56,
   "id": "f8f492ca-4c79-4d69-918f-23ff35d7a727",
   "metadata": {},
   "outputs": [
    {
     "data": {
      "text/plain": [
       "['H', 'W', 'O', 'A', 'I', 'G', 'P', 'T']"
      ]
     },
     "execution_count": 56,
     "metadata": {},
     "output_type": "execute_result"
    }
   ],
   "source": [
    "\"\"\" Q57. Write a function that extracts uppercase characters from a NumPy array of strings.\n",
    "arr = np.array(['Hello', 'World', 'OpenAI', 'GPT'])\"\"\"\n",
    "\n",
    "arr = np.array(['Hello', 'World', 'OpenAI', 'GPT'])\n",
    "\n",
    "def ext_upper(a):\n",
    "    b=[]\n",
    "    for i in a:\n",
    "        for j in i:\n",
    "            if j==j.upper():\n",
    "                b.append(j)\n",
    "    return b\n",
    "            \n",
    "ext_upper(arr)"
   ]
  },
  {
   "cell_type": "code",
   "execution_count": 64,
   "id": "2e8e0052-f7f1-4699-ae9c-e4d84d677e7c",
   "metadata": {},
   "outputs": [
    {
     "data": {
      "text/plain": [
       "array(['mango', 'banana', 'grape', 'pinemango'], dtype='<U9')"
      ]
     },
     "execution_count": 64,
     "metadata": {},
     "output_type": "execute_result"
    }
   ],
   "source": [
    "\"\"\" Q58. Write a function that replaces occurrences of a substring in a NumPy array of strings with a new string.\n",
    " arr = np.array(['apple', 'banana', 'grape', 'pineapple'])\"\"\"\n",
    "\n",
    "arr = np.array(['apple', 'banana', 'grape', 'pineapple'])\n",
    "\n",
    "\n",
    "def replace_string(arr,word,new_string):\n",
    "    return np.char.replace(arr,word,new_string)\n",
    "\n",
    "\n",
    "replace_string(arr,\"apple\",\"mango\")"
   ]
  },
  {
   "cell_type": "code",
   "execution_count": 69,
   "id": "0db26089-705a-4049-a1a4-eab1d433150b",
   "metadata": {},
   "outputs": [
    {
     "data": {
      "text/plain": [
       "array(['HelloOpen', 'WorldAI'], dtype='<U9')"
      ]
     },
     "execution_count": 69,
     "metadata": {},
     "output_type": "execute_result"
    }
   ],
   "source": [
    "\"\"\" Q59. Write a function that concatenates strings in a NumPy array element-wise.\n",
    " arr1 = np.array(['Hello', 'World']) arr2 = np.array(['Open', 'AI'])\"\"\"\n",
    "\n",
    "arr1 = np.array(['Hello', 'World'])\n",
    "arr2 = np.array(['Open', 'AI'])\n",
    "\n",
    "def concate_array(arr1,arr2):\n",
    "    return np.char.add(arr1,arr2)\n",
    "\n",
    "concate_array(arr1,arr2)"
   ]
  },
  {
   "cell_type": "code",
   "execution_count": 71,
   "id": "c9a15f26-5c7e-4ae1-885d-fe904f47ef64",
   "metadata": {},
   "outputs": [
    {
     "data": {
      "text/plain": [
       "9"
      ]
     },
     "execution_count": 71,
     "metadata": {},
     "output_type": "execute_result"
    }
   ],
   "source": [
    "\"\"\" Q60. Write a function that finds the length of the longest string in a NumPy array.\n",
    " arr = np.array(['apple', 'banana', 'grape', 'pineapple'])\"\"\"\n",
    "\n",
    "arr = np.array(['apple', 'banana', 'grape', 'pineapple'])\n",
    "\n",
    "def highest_len(x):\n",
    "    b=[]\n",
    "    for i in x:\n",
    "        b.append(len(i))\n",
    "    return max(b)\n",
    "\n",
    "highest_len(arr)"
   ]
  },
  {
   "cell_type": "code",
   "execution_count": 99,
   "id": "d0aac34e-a855-4f5c-8c65-812d5a565747",
   "metadata": {},
   "outputs": [
    {
     "data": {
      "text/plain": [
       "17.376092680949277"
      ]
     },
     "execution_count": 99,
     "metadata": {},
     "output_type": "execute_result"
    }
   ],
   "source": [
    "\"\"\" Q61. Create a dataset of 100 random integers between 1 and 1000. Compute the mean, median, variance, and \n",
    "standard deviation of the dataset using NumPy's functions.\"\"\"\n",
    "\n",
    "a= np.random.randint(1,1000,(100))\n",
    "a\n",
    "\n",
    "# mean\n",
    "np.mean(a)\n",
    "# median\n",
    "np.median(a)\n",
    "# std\n",
    "b=np.std(a)\n",
    "b\n",
    "# variance\n",
    "np.sqrt(b)"
   ]
  },
  {
   "cell_type": "code",
   "execution_count": 105,
   "id": "41088f62-c370-4356-992e-c30d769ec4ca",
   "metadata": {},
   "outputs": [
    {
     "data": {
      "text/plain": [
       "array([24., 76.])"
      ]
     },
     "execution_count": 105,
     "metadata": {},
     "output_type": "execute_result"
    }
   ],
   "source": [
    "\"\"\" Q62. Generate an array of 50 random numbers between 1 and 100. Find the 25th and 75th percentiles of the \n",
    "dataset.\"\"\"\n",
    "\n",
    "p = np.random.randint(1,100,50)\n",
    "\n",
    "\n",
    "np.percentile(p,[25,75])"
   ]
  },
  {
   "cell_type": "code",
   "execution_count": 109,
   "id": "04e9c9c7-bfb9-451e-9200-1d58222573c9",
   "metadata": {},
   "outputs": [
    {
     "data": {
      "text/plain": [
       "array([[ 1., -1.],\n",
       "       [-1.,  1.]])"
      ]
     },
     "execution_count": 109,
     "metadata": {},
     "output_type": "execute_result"
    }
   ],
   "source": [
    "\"\"\"Q63. Create two arrays representing two sets of variables. Compute the correlation coefficient between these \n",
    "arrays using NumPy's `corrcoef` function.\"\"\"\n",
    "\n",
    "a=np.array([1,2,3,4,5,6,7,8,9,10])\n",
    "b=np.array([10,9,8,7,6,5,4,3,2,1])\n",
    "np.corrcoef(a,b)"
   ]
  },
  {
   "cell_type": "code",
   "execution_count": 113,
   "id": "b0d502d9-ed7a-432d-ae84-12d8aa7387fa",
   "metadata": {},
   "outputs": [
    {
     "data": {
      "text/plain": [
       "matrix([[ 47,  30,  13],\n",
       "        [119,  75,  31],\n",
       "        [191, 120,  49]])"
      ]
     },
     "execution_count": 113,
     "metadata": {},
     "output_type": "execute_result"
    }
   ],
   "source": [
    "\"\"\"Q64. Create two matrices and perform matrix multiplication using NumPy's `dot` function.\"\"\"\n",
    "\n",
    "mat1 = np.mat([[1,2,3],[4,5,6],[7,8,9]])\n",
    "mat2 = np.mat([[8,5,2],[9,5,1],[7,5,3]])\n",
    "\n",
    "np.dot(mat1,mat2)"
   ]
  },
  {
   "cell_type": "code",
   "execution_count": 117,
   "id": "1bac31dc-758b-4fb3-a789-995398f2e5d8",
   "metadata": {},
   "outputs": [
    {
     "data": {
      "text/plain": [
       "array([164.3 , 254.25, 474.  , 788.  , 903.2 ])"
      ]
     },
     "execution_count": 117,
     "metadata": {},
     "output_type": "execute_result"
    }
   ],
   "source": [
    "\"\"\" Q65. Create an array of 50 integers between 10 and 1000. Calculate the 10th, 50th (median), and 90th \n",
    "percentiles along with the first and third quartiles.\"\"\"\n",
    "\n",
    "d = np.random.randint(10,1000,50)\n",
    "\n",
    "np.percentile(d,[10,25,50,75,90])"
   ]
  },
  {
   "cell_type": "code",
   "execution_count": 121,
   "id": "ede7c212-b269-4f72-8eb7-0c4b76cd52c3",
   "metadata": {},
   "outputs": [],
   "source": [
    "\"\"\" Q66. Create a NumPy array of integers and find the index of a specific element.\"\"\"\n",
    "\n",
    "o = np.array([85,75,96,14,76])\n"
   ]
  },
  {
   "cell_type": "code",
   "execution_count": 128,
   "id": "082cc713-3535-4c14-bfb3-05d3fc2da77d",
   "metadata": {},
   "outputs": [
    {
     "data": {
      "text/plain": [
       "[14, 75, 76, 85, 96]"
      ]
     },
     "execution_count": 128,
     "metadata": {},
     "output_type": "execute_result"
    }
   ],
   "source": [
    "\"\"\" Q67. Generate a random NumPy array and sort it in ascending order.\"\"\"\n",
    "\n",
    "o = np.array([85,75,96,14,76])\n",
    "sorted(o)"
   ]
  },
  {
   "cell_type": "code",
   "execution_count": 130,
   "id": "017dc5b0-a931-44a9-9e4c-05f79c6dc442",
   "metadata": {},
   "outputs": [
    {
     "data": {
      "text/plain": [
       "array([25, 42, 30])"
      ]
     },
     "execution_count": 130,
     "metadata": {},
     "output_type": "execute_result"
    }
   ],
   "source": [
    "\"\"\" Q68. Filter elements >20  in the given NumPy array. arr = np.array([12, 25, 6, 42, 8, 30])\"\"\"\n",
    "arr = np.array([12, 25, 6, 42, 8, 30])\n",
    "arr[arr>20]"
   ]
  },
  {
   "cell_type": "code",
   "execution_count": 132,
   "id": "49e2eaba-9bcb-4dea-9d52-c4de8a94254c",
   "metadata": {},
   "outputs": [
    {
     "data": {
      "text/plain": [
       "array([12, 15])"
      ]
     },
     "execution_count": 132,
     "metadata": {},
     "output_type": "execute_result"
    }
   ],
   "source": [
    "\"\"\"Q69. Filter elements which are divisible by 3 from a given NumPy array. arr = np.array([1, 5, 8, 12, 15])\"\"\"\n",
    "\n",
    "arr = np.array([1, 5, 8, 12, 15])\n",
    "arr[arr%3==0]"
   ]
  },
  {
   "cell_type": "code",
   "execution_count": 139,
   "id": "1f9ec195-af43-4395-83a0-65e184147452",
   "metadata": {},
   "outputs": [
    {
     "data": {
      "text/plain": [
       "array([20, 30, 40])"
      ]
     },
     "execution_count": 139,
     "metadata": {},
     "output_type": "execute_result"
    }
   ],
   "source": [
    "\"\"\" Q 70. Filter elements which are ≥ 20 and ≤ 40 from a given NumPy array. arr = np.array([10, 20, 30, 40, 50])\"\"\"\n",
    "\n",
    "arr = np.array([10, 20, 30, 40, 50])\n",
    "arr[(arr>=20)&(arr<=40)]"
   ]
  },
  {
   "cell_type": "code",
   "execution_count": 140,
   "id": "0fa58f93-504c-4e94-a4ca-aa0954c2b2f1",
   "metadata": {},
   "outputs": [
    {
     "data": {
      "text/plain": [
       "'='"
      ]
     },
     "execution_count": 140,
     "metadata": {},
     "output_type": "execute_result"
    }
   ],
   "source": [
    "\"\"\" Q71. For the given NumPy array, check its byte order using the `dtype` attribute byteorder. arr = np.array([1, 2, 3])\"\"\"\n",
    "\n",
    "arr = np.array([1, 2, 3])\n",
    "arr.dtype.byteorder"
   ]
  },
  {
   "cell_type": "code",
   "execution_count": 142,
   "id": "60dd6651-c874-4e61-a5c4-e328a8b9eebd",
   "metadata": {},
   "outputs": [
    {
     "data": {
      "text/plain": [
       "array([16777216, 33554432, 50331648], dtype=int32)"
      ]
     },
     "execution_count": 142,
     "metadata": {},
     "output_type": "execute_result"
    }
   ],
   "source": [
    "\"\"\"Q72. For the given NumPy array, perform byte swapping in place using `byteswap()`.\n",
    " arr = np.array([1, 2, 3], dtype=np.int32)\"\"\"\n",
    "\n",
    "arr = np.array([1, 2, 3], dtype=np.int32)\n",
    "arr.byteswap(inplace=True)"
   ]
  },
  {
   "cell_type": "code",
   "execution_count": 144,
   "id": "c7ecc57e-0d85-4b23-a292-fd59e9069448",
   "metadata": {},
   "outputs": [
    {
     "data": {
      "text/plain": [
       "array([1, 2, 3], dtype=int32)"
      ]
     },
     "execution_count": 144,
     "metadata": {},
     "output_type": "execute_result"
    }
   ],
   "source": [
    "\"\"\" Q73. For the given NumPy array, swap its byte order without modifying the original array using \n",
    "`newbyteorder()`. arr = np.array([1, 2, 3], dtype=np.int32)\"\"\"\n",
    "\n",
    "arr = np.array([1, 2, 3], dtype=np.int32)\n",
    "arr.newbyteorder(\"<\")"
   ]
  },
  {
   "cell_type": "code",
   "execution_count": 147,
   "id": "f9e5f1a8-76fc-4f14-8d9d-05444031002c",
   "metadata": {},
   "outputs": [
    {
     "data": {
      "text/plain": [
       "array([1, 2, 3], dtype=int32)"
      ]
     },
     "execution_count": 147,
     "metadata": {},
     "output_type": "execute_result"
    }
   ],
   "source": [
    "\"\"\"Q 74. For the given NumPy array and swap its byte order conditionally based on system endianness using \n",
    "`newbyteorder()`. arr = np.array([1, 2, 3], dtype=np.int32)\"\"\"\n",
    "\n",
    "arr = np.array([1, 2, 3], dtype=np.int32)\n",
    "arr1 = arr.dtype.byteorder\n",
    "swap_arr = arr.newbyteorder(arr1)\n",
    "swap_arr"
   ]
  },
  {
   "cell_type": "code",
   "execution_count": 149,
   "id": "1c948aff-9a84-432f-82e5-d53bdcd1314e",
   "metadata": {},
   "outputs": [
    {
     "name": "stdout",
     "output_type": "stream",
     "text": [
      "Array byte order matches system (no swapping needed)\n"
     ]
    }
   ],
   "source": [
    "\"\"\"  75. For the given NumPy array, check if byte swapping is necessary for the current system using `dtype` \n",
    "attribute `byteorder`. arr = np.array([1, 2, 3], dtype=np.int32)\"\"\"\n",
    "\n",
    "arr = np.array([1, 2, 3], dtype=np.int32)\n",
    "system_endianness = arr.dtype.byteorder\n",
    "\n",
    "if system_endianness == '=':\n",
    "    print(\"Array byte order matches system (no swapping needed)\")\n",
    "else:\n",
    "    print(f\"Array byte order ({system_endianness}) differs from system\")"
   ]
  },
  {
   "cell_type": "code",
   "execution_count": 152,
   "id": "5336dceb-518e-49c2-a7d9-ed6124c243db",
   "metadata": {},
   "outputs": [
    {
     "data": {
      "text/plain": [
       "True"
      ]
     },
     "execution_count": 152,
     "metadata": {},
     "output_type": "execute_result"
    }
   ],
   "source": [
    "\"\"\" Q76. Create a NumPy array `arr1` with values from 1 to 10. Create a copy of `arr1` named `copy_arr` and modify \n",
    "an element in `copy_arr`. Check if modifying `copy_arr` affects `arr1`.\"\"\"\n",
    "\n",
    "arr1 = np.array([1,2,3,4,5,6,7,8,9,10])\n",
    "\n",
    "copy_arr = arr1\n",
    "\n",
    "copy_arr[2]= 85\n",
    "\n",
    "copy_arr[2]==arr1[2]"
   ]
  },
  {
   "cell_type": "code",
   "execution_count": 155,
   "id": "77134941-95e8-4478-aadc-8e24a38e24f3",
   "metadata": {},
   "outputs": [
    {
     "data": {
      "text/plain": [
       "True"
      ]
     },
     "execution_count": 155,
     "metadata": {},
     "output_type": "execute_result"
    }
   ],
   "source": [
    "\"\"\" Q77. Create a 2D NumPy array `matrix` of shape (3, 3) with random integers. Extract a slice `view_slice` from \n",
    "the matrix. Modify an element in `view_slice` and observe if it changes the original `matrix`.\"\"\"\n",
    "\n",
    "arr2 = np.random.randint(1,10,(3,3))\n",
    "view_slice=arr2[2]\n",
    "view_slice[2] = 95\n",
    "view_slice[2]==arr2[2,2]"
   ]
  },
  {
   "cell_type": "code",
   "execution_count": 8,
   "id": "2cc36ba6-4e72-4500-a82b-22633e849aaa",
   "metadata": {},
   "outputs": [
    {
     "data": {
      "text/plain": [
       "array([False, False, False])"
      ]
     },
     "execution_count": 8,
     "metadata": {},
     "output_type": "execute_result"
    }
   ],
   "source": [
    "\"\"\"Q78. Create a NumPy array `array_a` of shape (4, 3) with sequential integers from 1 to 12. Extract a slice \n",
    "`view_b` from `array_a` and broadcast the addition of 5 to view_b. Check if it alters the original `array_a`.\"\"\"\n",
    "\n",
    "array = np.arange(1, 13)\n",
    "array_a = array.reshape(4,3)\n",
    "array_a\n",
    "\n",
    "view_b = array_a[1]\n",
    "\n",
    "view_b+5 == array_a[1]"
   ]
  },
  {
   "cell_type": "code",
   "execution_count": 15,
   "id": "1fa9e146-e8c9-492d-843c-e01ca46de672",
   "metadata": {},
   "outputs": [
    {
     "data": {
      "text/plain": [
       "array([[ True,  True],\n",
       "       [ True,  True],\n",
       "       [ True,  True],\n",
       "       [ True,  True]])"
      ]
     },
     "execution_count": 15,
     "metadata": {},
     "output_type": "execute_result"
    }
   ],
   "source": [
    "\"\"\" Q79. Create a NumPy array `orig_array` of shape (2, 4) with values from 1 to 8. Create a reshaped view \n",
    "`reshaped_view` of shape (4, 2) from orig_array. Modify an element in `reshaped_view` and check if it \n",
    "reflects changes in the original `orig_array`.\"\"\"\n",
    "\n",
    "array = np.arange(1,9)\n",
    "orig_array= array.reshape(2,4)\n",
    "reshaped_view= orig_array.reshape(4,2)\n",
    "reshaped_view[2,0]=58\n",
    "orig_array.reshape(4,2) == reshaped_view"
   ]
  },
  {
   "cell_type": "code",
   "execution_count": 26,
   "id": "eb072fc1-3713-4ab5-a1db-c0d04871cb27",
   "metadata": {},
   "outputs": [
    {
     "data": {
      "text/plain": [
       "False"
      ]
     },
     "execution_count": 26,
     "metadata": {},
     "output_type": "execute_result"
    }
   ],
   "source": [
    "\"\"\" Q 80. Create a NumPy array `data` of shape (3, 4) with random integers. Extract a copy `data_copy` of \n",
    "elements greater than 5. Modify an element in `data_copy` and verify if it affects the original `data`.\"\"\"\n",
    "\n",
    "data = np.random.randint(1,15,(3,4))\n",
    "data_copy = data[data > 5].copy()\n",
    "data_copy[(0)] = 99\n",
    "np.array_equal(data, data_copy)"
   ]
  },
  {
   "cell_type": "code",
   "execution_count": 28,
   "id": "3021f972-7d58-46cb-861f-07017691647a",
   "metadata": {},
   "outputs": [
    {
     "name": "stdout",
     "output_type": "stream",
     "text": [
      "[[ 2 -3  5]\n",
      " [ 4 -2 -2]] [[14  5 11]\n",
      " [14 10 10]]\n"
     ]
    }
   ],
   "source": [
    "\"\"\"Q81. Create two matrices A and B of identical shape containing integers and perform addition and subtraction \n",
    "operations between them.\"\"\"\n",
    "\n",
    "A = np.random.randint(1, 10, size=(2, 3))\n",
    "B = np.random.randint(1, 10, size=(2, 3))\n",
    "addition_result = A + B\n",
    "subtraction_result = A - B\n",
    "print(subtraction_result,addition_result)"
   ]
  },
  {
   "cell_type": "code",
   "execution_count": 30,
   "id": "1e290756-1b31-4c33-843e-0bf3dd38762e",
   "metadata": {},
   "outputs": [
    {
     "data": {
      "text/plain": [
       "array([[ 65,  86, 107, 128],\n",
       "       [ 77, 102, 127, 152],\n",
       "       [ 89, 118, 147, 176]])"
      ]
     },
     "execution_count": 30,
     "metadata": {},
     "output_type": "execute_result"
    }
   ],
   "source": [
    "\"\"\" Q 82. Generate two matrices `C` (3x2) and `D` (2x4) and perform matrix multiplication.\"\"\"\n",
    "D = np.array([[1,2,3,4],[5,6,7,8]])\n",
    "C=np.array([[10,11],[12,13],[14,15]])\n",
    "\n",
    "C@D"
   ]
  },
  {
   "cell_type": "code",
   "execution_count": 32,
   "id": "b9d561d3-531f-4663-9e93-23cb2e159055",
   "metadata": {},
   "outputs": [
    {
     "data": {
      "text/plain": [
       "array([[1, 5],\n",
       "       [2, 6],\n",
       "       [3, 7],\n",
       "       [4, 8]])"
      ]
     },
     "execution_count": 32,
     "metadata": {},
     "output_type": "execute_result"
    }
   ],
   "source": [
    "\"\"\"Q83. Create a matrix `E` and find its transpose\"\"\"\n",
    "\n",
    "E = np.array([[1,2,3,4],[5,6,7,8]])\n",
    "E.T"
   ]
  },
  {
   "cell_type": "code",
   "execution_count": 36,
   "id": "86c19668-9195-4de6-868c-367289d4e4d6",
   "metadata": {},
   "outputs": [
    {
     "data": {
      "text/plain": [
       "-21.999999999999996"
      ]
     },
     "execution_count": 36,
     "metadata": {},
     "output_type": "execute_result"
    }
   ],
   "source": [
    "\"\"\"Q84. Generate a square matrix `F` and compute its determinant.\"\"\"\n",
    "F = np.array([[2,5],[8,9]])\n",
    "\n",
    "np.linalg.det(F)"
   ]
  },
  {
   "cell_type": "code",
   "execution_count": 37,
   "id": "b17fc05a-5cb0-4dfa-8092-9bc4bf8c26a9",
   "metadata": {},
   "outputs": [
    {
     "data": {
      "text/plain": [
       "array([[-0.40909091,  0.22727273],\n",
       "       [ 0.36363636, -0.09090909]])"
      ]
     },
     "execution_count": 37,
     "metadata": {},
     "output_type": "execute_result"
    }
   ],
   "source": [
    "\"\"\"Q 85. Create a square matrix `G` and find its inverse.\"\"\"\n",
    "G = np.array([[2,5],[8,9]])\n",
    "np.linalg.inv(G)"
   ]
  }
 ],
 "metadata": {
  "kernelspec": {
   "display_name": "Python 3 (ipykernel)",
   "language": "python",
   "name": "python3"
  },
  "language_info": {
   "codemirror_mode": {
    "name": "ipython",
    "version": 3
   },
   "file_extension": ".py",
   "mimetype": "text/x-python",
   "name": "python",
   "nbconvert_exporter": "python",
   "pygments_lexer": "ipython3",
   "version": "3.10.8"
  }
 },
 "nbformat": 4,
 "nbformat_minor": 5
}
